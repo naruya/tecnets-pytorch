{
 "cells": [
  {
   "cell_type": "code",
   "execution_count": 19,
   "metadata": {},
   "outputs": [],
   "source": [
    "import glob\n",
    "PATH = \"/root/workspace/gym/gym/envs/mujoco/assets/sim_push_xmls\"\n",
    "files = glob.glob(PATH+'/*.xml')\n",
    "# print(len(files))\n",
    "# for file in files:\n",
    "#     print(file)"
   ]
  },
  {
   "cell_type": "code",
   "execution_count": 31,
   "metadata": {},
   "outputs": [
    {
     "name": "stdout",
     "output_type": "stream",
     "text": [
      "1103\n",
      "{'file': '/root/workspace/gym/gym/envs/mujoco/assets/sim_push_xmls/test2_ensure_woodtable_distractor_pusher0.xml', 'table': 'wpic', 'object_mesh': 'Recycle Soda Can', 'distractor_mesh': 'Elephant', 'distractor': 'zigzagged', 'object': 'studded', 'instruction': 'Push the studded Recycle Soda Can to the red area.'}\n"
     ]
    }
   ],
   "source": [
    "import re\n",
    "import collections\n",
    "import xml.etree.ElementTree as ET\n",
    "object_dicts = []\n",
    "for file in files:\n",
    "    d = {}\n",
    "    d[\"file\"] = file\n",
    "    tree = ET.parse(file)\n",
    "    root = tree.getroot()\n",
    "    for child in root:\n",
    "#         print(child.tag)\n",
    "        if child.tag == \"asset\":\n",
    "            for i in child:\n",
    "#                 print(i)\n",
    "                if i.tag == \"mesh\":\n",
    "#                     print(i.attrib[\"name\"], i.attrib[\"file\"])\n",
    "                    mesh = i.attrib[\"file\"]\n",
    "                    mesh = re.sub(\"\\d+\", \"\", mesh)\n",
    "                    mesh = mesh.split(\"/\")[-1]\n",
    "                    mesh = mesh.split(\".\")[0]\n",
    "                    mesh = mesh.replace(\"_\", \" \")\n",
    "                    mesh = mesh.replace(\"-\", \" \")   \n",
    "                    d[i.attrib[\"name\"]] = mesh\n",
    "                if i.tag == \"texture\":\n",
    "#                     print(i.attrib[\"name\"], i.attrib[\"file\"])\n",
    "                    texture = i.attrib[\"file\"]  #  textures/obj_textures/pleated_0105.png\n",
    "                    texture = re.sub(\"\\d+\", \"\", texture)\n",
    "                    texture = texture.split(\"/\")[-1]  # 'pleated_0105.png'\n",
    "                    texture = texture.split(\".\")[0]  # 'pleated_0105'\n",
    "                    texture = texture.split(\"_\")[0]  # 'pleated'\n",
    "                    texture = texture.replace(\"-\", \" \")\n",
    "                    d[i.attrib[\"name\"]] = texture\n",
    "        \n",
    "    adj = d['object']\n",
    "    n = d['object_mesh']\n",
    "    d[\"instruction\"] = f\"Push the {adj} {n} to the red area.\"\n",
    "    assert len(d) == 7\n",
    "    object_dicts.append(d)\n",
    "object_dicts.sort(key=lambda x:x[\"file\"])\n",
    "print(len(object_dicts))\n",
    "print(object_dicts[0])# {'file': '/root/workspace/gym/gym/envs/mujoco/assets/sim_push_xmls/test2_ensure_woodtable_distractor_pusher0.xml', 'table': 'wpic', 'object_mesh': 'Recycle Soda Can', 'distractor_mesh': 'Elephant', 'distractor': 'zigzagged', 'object': 'studded'}\n",
    "# print(objects)  # ['ball holder', 'pleated'] [ n. , adj.]\n",
    "# print(distractors)  # ['Simple Filament Guide', 'polka dotted']"
   ]
  },
  {
   "cell_type": "code",
   "execution_count": 80,
   "metadata": {},
   "outputs": [],
   "source": [
    "from bert_serving.client import BertClient\n",
    "bc = BertClient()\n",
    "a = []\n",
    "for i in range(len(object_dicts)):\n",
    "    file_name = object_dicts[i][\"file\"]\n",
    "    file_name = file_name.split(\"/\")[-1][:-4]\n",
    "#     instruction_encoding = bc.encode([object_dicts[i][\"instruction\"]])\n",
    "#     a.append(instruction_encoding)\n",
    "#     np.save(\"/root/workspace/TecNets/datasets/2021_instructions/\" + file_name, instruction_encoding)"
   ]
  },
  {
   "cell_type": "code",
   "execution_count": 79,
   "metadata": {
    "collapsed": true,
    "jupyter": {
     "outputs_hidden": true,
     "source_hidden": true
    }
   },
   "outputs": [
    {
     "data": {
      "text/plain": [
       "array([[-1.0395416 ,  0.71385294, -0.07652526, -0.40151507,  1.4310739 ,\n",
       "         0.5192264 , -0.5449639 , -0.32558814, -1.2882655 ,  0.37293848,\n",
       "         0.615604  ,  0.6137767 ,  0.63653266, -0.42575368,  1.3585513 ,\n",
       "        -1.202551  , -1.5464786 , -0.04879067,  0.01374005,  1.9459574 ,\n",
       "        -1.0347817 , -0.9296058 , -0.22269876,  1.5248083 ,  0.40866375,\n",
       "        -0.27932343, -0.29555067,  0.34063843,  0.5378189 ,  0.895805  ,\n",
       "        -0.2687944 , -0.6671899 , -1.1212829 , -0.9877073 , -0.47115967,\n",
       "        -0.8530492 ,  0.46642894, -0.5289706 , -0.80334824, -0.639985  ,\n",
       "         1.1171955 , -1.256457  , -0.1701606 , -0.46312752,  0.6238225 ,\n",
       "         0.02888249, -0.18882897,  0.5105519 , -0.36244112,  1.2291206 ,\n",
       "         0.36924198,  0.3581269 ,  1.4385408 , -0.9478831 ,  0.52546674,\n",
       "        -0.23683922,  0.4635961 ,  0.09950393, -0.46760187,  1.7355219 ,\n",
       "        -0.09676965,  0.03897129, -1.2560438 , -0.3313102 , -0.1367214 ,\n",
       "        -0.492061  ,  0.30532342, -0.33962557, -0.19168286,  0.40320566,\n",
       "        -0.30368632, -0.67162246,  0.35465077, -1.4488995 , -0.7266409 ,\n",
       "        -0.11414494,  0.6581454 ,  0.51001894,  1.9436882 ,  0.19315931,\n",
       "         0.48015127, -1.4320726 , -0.70416826,  0.33090225,  1.1857046 ,\n",
       "        -0.48324925, -0.70448905,  0.86339045,  0.31600663, -1.0431931 ,\n",
       "         1.3533899 , -0.0628316 , -0.15809548,  0.27700943,  1.2725073 ,\n",
       "         0.47809497,  0.6620342 , -0.71520823, -0.30654305,  0.7153698 ,\n",
       "        -0.02550335,  0.08929606,  0.08655412,  0.06871796,  1.560984  ,\n",
       "        -0.47273594, -0.6321863 ,  1.2368783 ,  0.96214265, -1.7048231 ,\n",
       "        -1.2510692 ,  2.7107396 ,  0.3518128 ,  0.09418588, -0.2632374 ,\n",
       "        -0.2728488 ,  0.89486915, -0.90601176,  0.0468625 ,  1.234708  ,\n",
       "        -0.5134868 ,  0.79801464,  1.3233471 , -1.3121121 , -0.25546768,\n",
       "        -2.591109  ,  0.12156777,  1.3080921 ]], dtype=float32)"
      ]
     },
     "execution_count": 79,
     "metadata": {},
     "output_type": "execute_result"
    }
   ],
   "source": [
    "# np.load(\"/root/workspace/TecNets/datasets/2021_instructions/test2_ensure_woodtable_distractor_pusher10.npy\")"
   ]
  },
  {
   "cell_type": "code",
   "execution_count": 81,
   "metadata": {},
   "outputs": [
    {
     "ename": "IndexError",
     "evalue": "index 1 is out of bounds for axis 0 with size 1",
     "output_type": "error",
     "traceback": [
      "\u001b[0;31m---------------------------------------------------------------------------\u001b[0m",
      "\u001b[0;31mIndexError\u001b[0m                                Traceback (most recent call last)",
      "\u001b[0;32m<ipython-input-81-6c5ba751ceea>\u001b[0m in \u001b[0;36m<module>\u001b[0;34m\u001b[0m\n\u001b[1;32m      4\u001b[0m \u001b[0mm_\u001b[0m \u001b[0;34m=\u001b[0m \u001b[0;36m0\u001b[0m\u001b[0;34m\u001b[0m\u001b[0;34m\u001b[0m\u001b[0m\n\u001b[1;32m      5\u001b[0m \u001b[0;32mfor\u001b[0m \u001b[0mi\u001b[0m \u001b[0;32min\u001b[0m \u001b[0mrange\u001b[0m\u001b[0;34m(\u001b[0m\u001b[0;36m299\u001b[0m\u001b[0;34m)\u001b[0m\u001b[0;34m:\u001b[0m\u001b[0;34m\u001b[0m\u001b[0;34m\u001b[0m\u001b[0m\n\u001b[0;32m----> 6\u001b[0;31m     \u001b[0mm\u001b[0m \u001b[0;34m+=\u001b[0m \u001b[0mnp\u001b[0m\u001b[0;34m.\u001b[0m\u001b[0mmean\u001b[0m\u001b[0;34m(\u001b[0m\u001b[0ma\u001b[0m\u001b[0;34m[\u001b[0m\u001b[0mi\u001b[0m\u001b[0;34m]\u001b[0m\u001b[0;34m[\u001b[0m\u001b[0;36m1\u001b[0m\u001b[0;34m]\u001b[0m\u001b[0;34m-\u001b[0m\u001b[0ma\u001b[0m\u001b[0;34m[\u001b[0m\u001b[0mi\u001b[0m\u001b[0;34m]\u001b[0m\u001b[0;34m[\u001b[0m\u001b[0;36m0\u001b[0m\u001b[0;34m]\u001b[0m\u001b[0;34m)\u001b[0m\u001b[0;34m\u001b[0m\u001b[0;34m\u001b[0m\u001b[0m\n\u001b[0m\u001b[1;32m      7\u001b[0m \u001b[0;31m#     print(np.mean(a[i][1]-a[i][0]))\u001b[0m\u001b[0;34m\u001b[0m\u001b[0;34m\u001b[0m\u001b[0;34m\u001b[0m\u001b[0m\n\u001b[1;32m      8\u001b[0m \u001b[0;31m#     print(\"instruction\", np.mean(a[i][0]-a[i+1][0]))\u001b[0m\u001b[0;34m\u001b[0m\u001b[0;34m\u001b[0m\u001b[0;34m\u001b[0m\u001b[0m\n",
      "\u001b[0;31mIndexError\u001b[0m: index 1 is out of bounds for axis 0 with size 1"
     ]
    }
   ],
   "source": [
    "# To check How good are the encoding provide by bert as service.\n",
    "# Don't know how to do that is general.\n",
    "# m = 0\n",
    "# m_ = 0\n",
    "# for i in range(299):\n",
    "#     m += np.mean(a[i][1]-a[i][0])\n",
    "#     print(np.mean(a[i][1]-a[i][0]))\n",
    "#     print(\"instruction\", np.mean(a[i][0]-a[i+1][0]))\n",
    "#     m_ += np.mean(a[i][0]-a[i+1][0])\n",
    "# print(m/299, m_/299)\n",
    "# print(np.mean(a[0]))\n",
    "# print(a[0][1])"
   ]
  },
  {
   "cell_type": "code",
   "execution_count": 82,
   "metadata": {},
   "outputs": [
    {
     "data": {
      "text/plain": [
       "'/root/workspace/TecNets/scripts'"
      ]
     },
     "execution_count": 82,
     "metadata": {},
     "output_type": "execute_result"
    }
   ],
   "source": [
    "import os\n",
    "os.getcwd()"
   ]
  },
  {
   "cell_type": "code",
   "execution_count": 200,
   "metadata": {},
   "outputs": [
    {
     "ename": "UnicodeEncodeError",
     "evalue": "'ascii' codec can't encode character '\\u0301' in position 10: ordinal not in range(128)",
     "output_type": "error",
     "traceback": [
      "\u001b[0;31m---------------------------------------------------------------------------\u001b[0m",
      "\u001b[0;31mUnicodeEncodeError\u001b[0m                        Traceback (most recent call last)",
      "\u001b[0;32m<ipython-input-200-26005e701d63>\u001b[0m in \u001b[0;36m<module>\u001b[0;34m\u001b[0m\n\u001b[1;32m      9\u001b[0m     \u001b[0mname\u001b[0m \u001b[0;34m=\u001b[0m \u001b[0mobject_dict\u001b[0m\u001b[0;34m[\u001b[0m\u001b[0;34m\"file\"\u001b[0m\u001b[0;34m]\u001b[0m\u001b[0;34m.\u001b[0m\u001b[0msplit\u001b[0m\u001b[0;34m(\u001b[0m\u001b[0;34m\"/\"\u001b[0m\u001b[0;34m)\u001b[0m\u001b[0;34m[\u001b[0m\u001b[0;34m-\u001b[0m\u001b[0;36m1\u001b[0m\u001b[0;34m]\u001b[0m\u001b[0;34m[\u001b[0m\u001b[0;34m:\u001b[0m\u001b[0;34m-\u001b[0m\u001b[0;36m4\u001b[0m\u001b[0;34m]\u001b[0m\u001b[0;34m\u001b[0m\u001b[0;34m\u001b[0m\u001b[0m\n\u001b[1;32m     10\u001b[0m     \u001b[0;32mwith\u001b[0m \u001b[0mopen\u001b[0m\u001b[0;34m(\u001b[0m\u001b[0;34mf\"/root/workspace/TecNets/datasets/object_dicts/{name}.json\"\u001b[0m\u001b[0;34m,\u001b[0m \u001b[0;34m\"w\"\u001b[0m\u001b[0;34m)\u001b[0m \u001b[0;32mas\u001b[0m \u001b[0mfp\u001b[0m\u001b[0;34m:\u001b[0m\u001b[0;34m\u001b[0m\u001b[0;34m\u001b[0m\u001b[0m\n\u001b[0;32m---> 11\u001b[0;31m         \u001b[0mjson\u001b[0m\u001b[0;34m.\u001b[0m\u001b[0mdump\u001b[0m\u001b[0;34m(\u001b[0m\u001b[0mobject_dict\u001b[0m\u001b[0;34m,\u001b[0m \u001b[0mfp\u001b[0m\u001b[0;34m,\u001b[0m \u001b[0mensure_ascii\u001b[0m\u001b[0;34m=\u001b[0m\u001b[0;32mFalse\u001b[0m\u001b[0;34m,\u001b[0m \u001b[0mindent\u001b[0m\u001b[0;34m=\u001b[0m\u001b[0;36m4\u001b[0m\u001b[0;34m)\u001b[0m\u001b[0;34m\u001b[0m\u001b[0;34m\u001b[0m\u001b[0m\n\u001b[0m",
      "\u001b[0;32m~/.pyenv/versions/3.6.8/lib/python3.6/json/__init__.py\u001b[0m in \u001b[0;36mdump\u001b[0;34m(obj, fp, skipkeys, ensure_ascii, check_circular, allow_nan, cls, indent, separators, default, sort_keys, **kw)\u001b[0m\n\u001b[1;32m    178\u001b[0m     \u001b[0;31m# a debuggability cost\u001b[0m\u001b[0;34m\u001b[0m\u001b[0;34m\u001b[0m\u001b[0;34m\u001b[0m\u001b[0m\n\u001b[1;32m    179\u001b[0m     \u001b[0;32mfor\u001b[0m \u001b[0mchunk\u001b[0m \u001b[0;32min\u001b[0m \u001b[0miterable\u001b[0m\u001b[0;34m:\u001b[0m\u001b[0;34m\u001b[0m\u001b[0;34m\u001b[0m\u001b[0m\n\u001b[0;32m--> 180\u001b[0;31m         \u001b[0mfp\u001b[0m\u001b[0;34m.\u001b[0m\u001b[0mwrite\u001b[0m\u001b[0;34m(\u001b[0m\u001b[0mchunk\u001b[0m\u001b[0;34m)\u001b[0m\u001b[0;34m\u001b[0m\u001b[0;34m\u001b[0m\u001b[0m\n\u001b[0m\u001b[1;32m    181\u001b[0m \u001b[0;34m\u001b[0m\u001b[0m\n\u001b[1;32m    182\u001b[0m \u001b[0;34m\u001b[0m\u001b[0m\n",
      "\u001b[0;31mUnicodeEncodeError\u001b[0m: 'ascii' codec can't encode character '\\u0301' in position 10: ordinal not in range(128)"
     ]
    }
   ],
   "source": [
    "\"\"\"\n",
    "Push the [adj n.] object to the red area.\n",
    "ex: Push the [pleated ball_holder] object to the red area.\n",
    "\"\"\"\n",
    "import json\n",
    "\n",
    "instructions = []\n",
    "for object_dict in object_dicts:\n",
    "    name = object_dict[\"file\"].split(\"/\")[-1][:-4]\n",
    "#     with open(f\"/root/workspace/TecNets/datasets/object_dicts/{name}.json\", \"w\") as fp:\n",
    "#         json.dump(object_dict, fp, ensure_ascii=False, indent=4)"
   ]
  },
  {
   "cell_type": "code",
   "execution_count": 174,
   "metadata": {},
   "outputs": [],
   "source": [
    "files = glob.glob(\"/root/workspace/TecNets/datasets/object_dicts/*\")"
   ]
  },
  {
   "cell_type": "code",
   "execution_count": 4,
   "metadata": {},
   "outputs": [],
   "source": [
    "import numpy as np\n",
    "np.save(\"/root/try\",a[0])"
   ]
  },
  {
   "cell_type": "code",
   "execution_count": 6,
   "metadata": {},
   "outputs": [],
   "source": [
    "b = np.load(\"/root/try.npy\")"
   ]
  },
  {
   "cell_type": "code",
   "execution_count": 17,
   "metadata": {},
   "outputs": [
    {
     "data": {
      "text/plain": [
       "0.701263003051281"
      ]
     },
     "execution_count": 17,
     "metadata": {},
     "output_type": "execute_result"
    }
   ],
   "source": [
    "sum(a[1] - a[4])"
   ]
  },
  {
   "cell_type": "code",
   "execution_count": null,
   "metadata": {},
   "outputs": [],
   "source": []
  }
 ],
 "metadata": {
  "kernelspec": {
   "display_name": "Python 3",
   "language": "python",
   "name": "python3"
  },
  "language_info": {
   "codemirror_mode": {
    "name": "ipython",
    "version": 3
   },
   "file_extension": ".py",
   "mimetype": "text/x-python",
   "name": "python",
   "nbconvert_exporter": "python",
   "pygments_lexer": "ipython3",
   "version": "3.6.8"
  }
 },
 "nbformat": 4,
 "nbformat_minor": 4
}
